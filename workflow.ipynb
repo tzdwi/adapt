{
 "cells": [
  {
   "cell_type": "markdown",
   "metadata": {
    "collapsed": true
   },
   "source": [
    "# Hey there! Here's more-or-less the steps you'll be taking to reduce our data, and, using those reduced data, extract some flux-calibrated lightcurves of WR 124! "
   ]
  },
  {
   "cell_type": "code",
   "execution_count": null,
   "metadata": {
    "collapsed": true
   },
   "outputs": [],
   "source": [
    "#First, let's import some useful libraries\n",
    "import numpy as np\n",
    "from matplotlib import pyplot as plt\n",
    "from adapt import *\n",
    "from phot_tools import *\n",
    "from glob import glob\n",
    "import os\n",
    "from astropy.io import fits\n",
    "\n",
    "%matplotlib inline\n",
    "#What do all of these libraries do?"
   ]
  },
  {
   "cell_type": "markdown",
   "metadata": {},
   "source": [
    "## First things first, we need to reduce our data; that is, convert from the number that is stored in each pixel (which takes into account aaaaallllll of the optics and disturbances and quantum mechanics that are between the detector and the sky) to a number that we really hope corresponds to the number of photons that actually hit the detector."
   ]
  },
  {
   "cell_type": "code",
   "execution_count": null,
   "metadata": {},
   "outputs": [],
   "source": [
    "#First, point this notebook to the directory where your raw data are in (datadir), and \n",
    "#directories where you want the reduced master calibrations (caldir) and reduced science\n",
    "#images (reddir) to go. You'll probably want to make the directories first. The trailing\n",
    "#slash in the name is important (the code breaks if you don't give it the trailing slash...)\n",
    "\n",
    "datadir = '/path/to/the/data/'\n",
    "caldir = '/path/to/caldir/'\n",
    "reddir = '/path/to/reddir/'"
   ]
  },
  {
   "cell_type": "markdown",
   "metadata": {},
   "source": [
    "## Let's first measure the bias level in all of our images --- i.e., the little bit of signal that is inherent to every exposure --- by taking the median of a series of zero-second exposures."
   ]
  },
  {
   "cell_type": "code",
   "execution_count": null,
   "metadata": {},
   "outputs": [],
   "source": [
    "#Use glob to assemble lists of biases...\n",
    "biaslist = glob(datadir+'string that glob can use to find biases. use * as a wildcard!')\n",
    "print(biaslist) #this should be all biases..."
   ]
  },
  {
   "cell_type": "code",
   "execution_count": null,
   "metadata": {
    "collapsed": true
   },
   "outputs": [],
   "source": [
    "#Now create the master bias. You'll have to decide some parameters. Play with \n",
    "#overscan_fit_degree and see how it affects the output bias (which will now be\n",
    "#in caldir/master_bias.fits). Do you notice any trend that affects each column of\n",
    "#the bias? Try messing with overscan_fit_degree til it goes away. Overwrite determines \n",
    "#what will happen if the bias already exists. \n",
    "master_bias(biaslist=biaslist,overscan_fit_degree=?,caldir=caldir,overwrite=?)"
   ]
  },
  {
   "cell_type": "code",
   "execution_count": null,
   "metadata": {
    "collapsed": true
   },
   "outputs": [],
   "source": [
    "#Load up the bias and take a look at it. Does it look like there are any systematic \n",
    "#trends in the bias? Try messing with overscan_fit_degree. You can look at the image\n",
    "#in ds9 or QFitsView, or just try loading it up in here!"
   ]
  },
  {
   "cell_type": "markdown",
   "metadata": {},
   "source": [
    "## Now, because our detector isn't cooled to absolute zero, it adds a little bit of signal (called the dark current), which gets stronger with time. If we 'expose' the detector (without letting any light get to it) for the same amount of time as our actual images, we'll have an estimate of the dark current in those images. L"
   ]
  },
  {
   "cell_type": "code",
   "execution_count": null,
   "metadata": {
    "collapsed": true
   },
   "outputs": [],
   "source": [
    "#Ok, so we've made our bias... let's try making a dark! Because darks are dependent on exposure\n",
    "#time, we'll have to make one dark for each exposure time. For now, just make a 10s dark\n",
    "darklist = glob(datadir+'string that glob can use to find 10s darks.')\n",
    "print(darklist) #did you only pick out the 10s darks?"
   ]
  },
  {
   "cell_type": "code",
   "execution_count": null,
   "metadata": {
    "collapsed": true
   },
   "outputs": [],
   "source": []
  }
 ],
 "metadata": {
  "kernelspec": {
   "display_name": "Python [conda root]",
   "language": "python",
   "name": "conda-root-py"
  },
  "language_info": {
   "codemirror_mode": {
    "name": "ipython",
    "version": 3
   },
   "file_extension": ".py",
   "mimetype": "text/x-python",
   "name": "python",
   "nbconvert_exporter": "python",
   "pygments_lexer": "ipython3",
   "version": "3.5.1"
  }
 },
 "nbformat": 4,
 "nbformat_minor": 2
}
